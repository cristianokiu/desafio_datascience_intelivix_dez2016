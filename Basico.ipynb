{
 "cells": [
  {
   "cell_type": "markdown",
   "metadata": {
    "deletable": true,
    "editable": true
   },
   "source": [
    "# Desafio Data Science Intelivix\n",
    "  Por: [Paulo Romeira](https://github.com/pauloromeira)"
   ]
  },
  {
   "cell_type": "code",
   "execution_count": 1,
   "metadata": {
    "collapsed": false,
    "deletable": true,
    "editable": true
   },
   "outputs": [],
   "source": [
    "# Classificadores\n",
    "from sklearn.neighbors import KNeighborsClassifier\n",
    "from sklearn.svm import SVC\n",
    "from sklearn.linear_model import LogisticRegression\n",
    "\n",
    "# Pré-processamento\n",
    "from sklearn.preprocessing import MinMaxScaler\n",
    "\n",
    "# Treinamento\n",
    "from sklearn.model_selection import train_test_split\n",
    "from sklearn.model_selection import StratifiedKFold, GridSearchCV\n",
    "\n",
    "# Métricas\n",
    "from sklearn.metrics import accuracy_score, confusion_matrix\n",
    "\n",
    "# Outros\n",
    "import numpy as np\n",
    "import pandas as pd\n",
    "from itertools import count\n",
    "from IPython.display import display\n",
    "\n",
    "# Dataset\n",
    "# from sklearn.datasets import load_iris\n",
    "\n",
    "# Random state: seed para que o notebook possa ser reproduzido.\n",
    "R_STATE = 1"
   ]
  },
  {
   "cell_type": "markdown",
   "metadata": {
    "deletable": true,
    "editable": true
   },
   "source": [
    "# Dataset"
   ]
  },
  {
   "cell_type": "code",
   "execution_count": 2,
   "metadata": {
    "collapsed": false,
    "deletable": true,
    "editable": true,
    "scrolled": false
   },
   "outputs": [
    {
     "data": {
      "text/html": [
       "<div>\n",
       "<table border=\"1\" class=\"dataframe\">\n",
       "  <thead>\n",
       "    <tr style=\"text-align: right;\">\n",
       "      <th></th>\n",
       "      <th>sepal length</th>\n",
       "      <th>sepal width</th>\n",
       "      <th>petal length</th>\n",
       "      <th>petal width</th>\n",
       "    </tr>\n",
       "    <tr>\n",
       "      <th>class</th>\n",
       "      <th></th>\n",
       "      <th></th>\n",
       "      <th></th>\n",
       "      <th></th>\n",
       "    </tr>\n",
       "  </thead>\n",
       "  <tbody>\n",
       "    <tr>\n",
       "      <th>Iris-setosa</th>\n",
       "      <td>5.1</td>\n",
       "      <td>3.5</td>\n",
       "      <td>1.4</td>\n",
       "      <td>0.2</td>\n",
       "    </tr>\n",
       "    <tr>\n",
       "      <th>Iris-versicolor</th>\n",
       "      <td>7.0</td>\n",
       "      <td>3.2</td>\n",
       "      <td>4.7</td>\n",
       "      <td>1.4</td>\n",
       "    </tr>\n",
       "    <tr>\n",
       "      <th>Iris-virginica</th>\n",
       "      <td>6.3</td>\n",
       "      <td>3.3</td>\n",
       "      <td>6.0</td>\n",
       "      <td>2.5</td>\n",
       "    </tr>\n",
       "  </tbody>\n",
       "</table>\n",
       "</div>"
      ],
      "text/plain": [
       "                 sepal length  sepal width  petal length  petal width\n",
       "class                                                                \n",
       "Iris-setosa               5.1          3.5           1.4          0.2\n",
       "Iris-versicolor           7.0          3.2           4.7          1.4\n",
       "Iris-virginica            6.3          3.3           6.0          2.5"
      ]
     },
     "metadata": {},
     "output_type": "display_data"
    }
   ],
   "source": [
    "# Easy way :)\n",
    "# iris = load_iris()\n",
    "# X, y = iris.data, iris.target\n",
    "\n",
    "header_names = ['sepal length', 'sepal width', 'petal length', 'petal width', 'class']\n",
    "ds = pd.read_csv('http://archive.ics.uci.edu/ml/machine-learning-databases/iris/iris.data',\n",
    "                 header=None,\n",
    "                 names=header_names\n",
    "                )\n",
    "\n",
    "display(ds.groupby('class').first())"
   ]
  },
  {
   "cell_type": "markdown",
   "metadata": {},
   "source": [
    "## Pré-processamento dos dados"
   ]
  },
  {
   "cell_type": "code",
   "execution_count": 3,
   "metadata": {
    "collapsed": false,
    "deletable": true,
    "editable": true
   },
   "outputs": [
    {
     "name": "stdout",
     "output_type": "stream",
     "text": [
      "Map: {'Iris-setosa': 0, 'Iris-versicolor': 1, 'Iris-virginica': 2}\n"
     ]
    }
   ],
   "source": [
    "# Mapeia as classes para números\n",
    "class_map = { c:i for c, i in zip(ds['class'].unique(), count()) }\n",
    "target = ds['class'].map(class_map)\n",
    "print('Map: {0}'.format(class_map))\n",
    "\n",
    "# Normaliza os atributos para valores entre 0 e 1\n",
    "scaler = MinMaxScaler()\n",
    "\n",
    "# Apenas as variáveis X e y serão usadas daqui em diante\n",
    "X, y = scaler.fit_transform(ds[header_names[:-1]]), np.array(target)"
   ]
  },
  {
   "cell_type": "markdown",
   "metadata": {
    "deletable": true,
    "editable": true
   },
   "source": [
    "# Classificadores e intervalos de hiperparâmetros\n",
    "* Obs: é possível acrescentar novos classificadores e parâmetros nesta seção, sem a necessidade de alterar o resto do código."
   ]
  },
  {
   "cell_type": "code",
   "execution_count": 4,
   "metadata": {
    "collapsed": false,
    "deletable": true,
    "editable": true
   },
   "outputs": [],
   "source": [
    "classifiers = [\n",
    "    KNeighborsClassifier(),\n",
    "    SVC(),\n",
    "    LogisticRegression()\n",
    "]\n",
    "\n",
    "# Apenas por conveniência\n",
    "classifiers_names = ['KNN', 'SVC', 'L. Regression']\n",
    "\n",
    "# Definindo os valores possíveis dos hiperparâmetros dos classificadores\n",
    "params = [\n",
    "    { 'n_neighbors': range(1, 50), 'weights': ['uniform', 'distance'] }, # KNN\n",
    "    { 'kernel':('linear', 'rbf'), 'C': np.linspace(0.001, 3, 500) }, # SVC\n",
    "    { 'C': range(1, 500) } # L. Regression\n",
    "]"
   ]
  },
  {
   "cell_type": "markdown",
   "metadata": {
    "deletable": true,
    "editable": true
   },
   "source": [
    "## Otimização de hiperparâmetros"
   ]
  },
  {
   "cell_type": "code",
   "execution_count": 5,
   "metadata": {
    "collapsed": false,
    "deletable": true,
    "editable": true
   },
   "outputs": [
    {
     "name": "stdout",
     "output_type": "stream",
     "text": [
      "KNN: {'n_neighbors': 4, 'weights': 'uniform'} - 96.67%\n",
      "SVC: {'C': 1.1549238476953907, 'kernel': 'linear'} - 97.33%\n",
      "L. Regression: {'C': 58} - 94.67%\n"
     ]
    }
   ],
   "source": [
    "# Os dados são divididos em 3 (33% para validação) e cada parâmetro será testado 3 vezes - um para cada \"fold\".\n",
    "# O StratifiedKFold é usado para dividir de forma balanceada as classes das amostras.\n",
    "cross_validator = StratifiedKFold(n_splits=3, shuffle=True, random_state=R_STATE)\n",
    "\n",
    "for classifier, name, param in zip(classifiers, classifiers_names, params):\n",
    "    # Aqui, cada classificador é testado em cross-validation pelo GridSearch,\n",
    "    # para cada combinação possível de parâmetros.\n",
    "    grid = GridSearchCV(classifier, param, scoring='accuracy', cv=cross_validator).fit(X, y)\n",
    "\n",
    "    # Setando parâmetros achados no gridsearch\n",
    "    classifier.set_params(**grid.best_params_)\n",
    "    \n",
    "    print('{0}: {1} - {2:.2%}'.format(name, grid.best_params_, grid.best_score_))"
   ]
  },
  {
   "cell_type": "markdown",
   "metadata": {
    "deletable": true,
    "editable": true
   },
   "source": [
    "> Na busca pelos melhores parâmetros acima, o classificador que obteve melhor desempenho no cross-validation foi o _SVC_, com 97.33% na média de acertos."
   ]
  },
  {
   "cell_type": "markdown",
   "metadata": {
    "deletable": true,
    "editable": true
   },
   "source": [
    "## Treinamento dos classificadores"
   ]
  },
  {
   "cell_type": "code",
   "execution_count": 6,
   "metadata": {
    "collapsed": false,
    "deletable": true,
    "editable": true,
    "scrolled": true
   },
   "outputs": [
    {
     "name": "stdout",
     "output_type": "stream",
     "text": [
      "KNN: 98.04%\n",
      "SVC: 96.08%\n",
      "L. Regression: 90.20%\n"
     ]
    }
   ],
   "source": [
    "# Dividindo as amostras em 66% treino e 34% testes\n",
    "X_train, X_test, y_train, y_test = train_test_split(X, y, train_size=0.66, random_state=R_STATE)\n",
    "\n",
    "predicted = []\n",
    "accuracy_scores = []\n",
    "confusion_matrices = []\n",
    "\n",
    "for classifier, name in zip(classifiers, classifiers_names):\n",
    "    classifier.fit(X_train, y_train)\n",
    "    \n",
    "    y_pred = classifier.predict(X_test)\n",
    "    \n",
    "    predicted.append(y_pred)\n",
    "    accuracy_scores.append(accuracy_score(y_test, y_pred))\n",
    "    confusion_matrices.append(confusion_matrix(y_test, y_pred))\n",
    "    \n",
    "    print(\"{0}: {1:.2%}\".\n",
    "          format(name, accuracy_scores[-1]))"
   ]
  },
  {
   "cell_type": "markdown",
   "metadata": {
    "deletable": true,
    "editable": true
   },
   "source": [
    "# Análise dos classificadores"
   ]
  },
  {
   "cell_type": "markdown",
   "metadata": {
    "deletable": true,
    "editable": true
   },
   "source": [
    "Após a busca exaustiva por melhores parâmetros, os classificadores foram treinados.  \n",
    "Nas métricas será utilizado um subconjunto da amostra `(X_test, y_test)`, que foi separado para testes."
   ]
  },
  {
   "cell_type": "code",
   "execution_count": 7,
   "metadata": {
    "collapsed": false,
    "deletable": true,
    "editable": true
   },
   "outputs": [
    {
     "name": "stdout",
     "output_type": "stream",
     "text": [
      "KNN: 98.04%\n",
      " [[18  0  0]\n",
      " [ 0 19  0]\n",
      " [ 0  1 13]]\n",
      "SVC: 96.08%\n",
      " [[18  0  0]\n",
      " [ 0 18  1]\n",
      " [ 0  1 13]]\n",
      "L. Regression: 90.20%\n",
      " [[18  0  0]\n",
      " [ 0 15  4]\n",
      " [ 0  1 13]]\n"
     ]
    }
   ],
   "source": [
    "for name, conf, score in zip(classifiers_names, confusion_matrices, accuracy_scores):\n",
    "    print('{0}: {1:.2%}\\n'.format(name, score), conf)"
   ]
  }
 ],
 "metadata": {
  "kernelspec": {
   "display_name": "Python 3",
   "language": "python",
   "name": "python3"
  },
  "language_info": {
   "codemirror_mode": {
    "name": "ipython",
    "version": 3
   },
   "file_extension": ".py",
   "mimetype": "text/x-python",
   "name": "python",
   "nbconvert_exporter": "python",
   "pygments_lexer": "ipython3",
   "version": "3.6.0"
  }
 },
 "nbformat": 4,
 "nbformat_minor": 2
}
