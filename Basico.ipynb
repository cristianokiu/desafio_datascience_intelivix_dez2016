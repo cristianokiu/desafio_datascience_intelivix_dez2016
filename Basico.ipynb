{
 "cells": [
  {
   "cell_type": "code",
   "execution_count": 2,
   "metadata": {
    "collapsed": false,
    "deletable": true,
    "editable": true
   },
   "outputs": [],
   "source": [
    "# Dataset\n",
    "from sklearn.datasets import load_iris\n",
    "\n",
    "# Classificadores\n",
    "from sklearn.neighbors import KNeighborsClassifier\n",
    "from sklearn.svm import SVC\n",
    "from sklearn.linear_model import LogisticRegression\n",
    "\n",
    "# Pré-processamento\n",
    "# from sklearn.preprocessing import StandardScaler\n",
    "\n",
    "# Treinamento\n",
    "# from sklearn.model_selection import train_test_split\n",
    "from sklearn.model_selection import GridSearchCV\n",
    "\n",
    "# Métricas\n",
    "# from sklearn.metrics import accuracy_score, confusion_matrix\n",
    "\n",
    "from IPython.display import display"
   ]
  },
  {
   "cell_type": "markdown",
   "metadata": {},
   "source": [
    "# Dataset"
   ]
  },
  {
   "cell_type": "code",
   "execution_count": 3,
   "metadata": {
    "collapsed": true,
    "deletable": true,
    "editable": true
   },
   "outputs": [],
   "source": [
    "# Load Dataset\n",
    "iris = load_iris()\n",
    "X, y = iris.data, iris.target\n"
   ]
  },
  {
   "cell_type": "markdown",
   "metadata": {
    "deletable": true,
    "editable": true
   },
   "source": [
    "# Classificadores"
   ]
  },
  {
   "cell_type": "code",
   "execution_count": 4,
   "metadata": {
    "collapsed": false,
    "deletable": true,
    "editable": true
   },
   "outputs": [],
   "source": [
    "classifiers = [\n",
    "    # Nearest Neighbors\n",
    "    KNeighborsClassifier(),\n",
    "    # C-Support Vector Classification\n",
    "    SVC(),\n",
    "    # Logistic Regression\n",
    "    LogisticRegression()\n",
    "]"
   ]
  },
  {
   "cell_type": "markdown",
   "metadata": {
    "deletable": true,
    "editable": true
   },
   "source": [
    "## Otimizando os parâmetros dos classificadores"
   ]
  },
  {
   "cell_type": "code",
   "execution_count": 39,
   "metadata": {
    "collapsed": false,
    "deletable": true,
    "editable": true
   },
   "outputs": [],
   "source": [
    "# Definindo os valores possíveis dos hiperparâmetros\n",
    "c_range = list(pow(10,n) for n in range(-4,4))\n",
    "params = [\n",
    "    { 'n_neighbors': list(range(1,20)), 'weights': ['uniform', 'distance'] },\n",
    "    { 'kernel':('linear', 'rbf'), 'C': c_range },\n",
    "    {'C': c_range }\n",
    "]\n",
    "\n",
    "# Aqui, cada classificador é testado em cross-validation pelo GridSearch.\n",
    "# Os dados são divididos em 3, por padrão, e cada parâmetro é testado 3 vezes.\n",
    "grids = [GridSearchCV(c, p, scoring='accuracy').fit(X, y) for c, p in zip(classifiers, params)]\n",
    "\n",
    "knn = KNeighborsClassifier(**grids[0].best_params_)\n",
    "svc = SVC(**grids[1].best_params_)\n",
    "lgr = LogisticRegression(**grids[2].best_params_)"
   ]
  }
 ],
 "metadata": {
  "kernelspec": {
   "display_name": "Python 3",
   "language": "python",
   "name": "python3"
  },
  "language_info": {
   "codemirror_mode": {
    "name": "ipython",
    "version": 3
   },
   "file_extension": ".py",
   "mimetype": "text/x-python",
   "name": "python",
   "nbconvert_exporter": "python",
   "pygments_lexer": "ipython3",
   "version": "3.6.0"
  }
 },
 "nbformat": 4,
 "nbformat_minor": 2
}
