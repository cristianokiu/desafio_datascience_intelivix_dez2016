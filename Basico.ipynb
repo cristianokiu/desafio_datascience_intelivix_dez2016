{
 "cells": [
  {
   "cell_type": "markdown",
   "metadata": {
    "deletable": true,
    "editable": true
   },
   "source": [
    "# Desafio Data Science Intelivix\n",
    "  Por: [Paulo Romeira](https://github.com/pauloromeira)"
   ]
  },
  {
   "cell_type": "code",
   "execution_count": 1,
   "metadata": {
    "collapsed": false,
    "deletable": true,
    "editable": true
   },
   "outputs": [],
   "source": [
    "# Classificadores\n",
    "from sklearn.neighbors import KNeighborsClassifier\n",
    "from sklearn.svm import SVC\n",
    "from sklearn.linear_model import LogisticRegression\n",
    "\n",
    "# Pré-processamento de dados\n",
    "from sklearn.preprocessing import MinMaxScaler, LabelEncoder\n",
    "\n",
    "# Treinamento\n",
    "from sklearn.model_selection import RandomizedSearchCV\n",
    "# Código retirado da versão: v0.19.dev0, com pequeno ajuste\n",
    "from sklearn_dev import RepeatedStratifiedKFold\n",
    "\n",
    "# Métricas\n",
    "from sklearn.metrics import classification as class_metrics\n",
    "\n",
    "# Outros\n",
    "import numpy as np\n",
    "import pandas as pd\n",
    "from IPython.display import display\n",
    "\n",
    "# Dataset\n",
    "# from sklearn.datasets import load_iris\n",
    "\n",
    "# Random state: seed para que o notebook possa ser reproduzido.\n",
    "R_STATE = 1"
   ]
  },
  {
   "cell_type": "markdown",
   "metadata": {
    "deletable": true,
    "editable": true
   },
   "source": [
    "# Dataset"
   ]
  },
  {
   "cell_type": "code",
   "execution_count": 2,
   "metadata": {
    "collapsed": false,
    "deletable": true,
    "editable": true,
    "scrolled": false
   },
   "outputs": [
    {
     "data": {
      "text/html": [
       "<div>\n",
       "<table border=\"1\" class=\"dataframe\">\n",
       "  <thead>\n",
       "    <tr style=\"text-align: right;\">\n",
       "      <th></th>\n",
       "      <th>sepal length</th>\n",
       "      <th>sepal width</th>\n",
       "      <th>petal length</th>\n",
       "      <th>petal width</th>\n",
       "    </tr>\n",
       "    <tr>\n",
       "      <th>class</th>\n",
       "      <th></th>\n",
       "      <th></th>\n",
       "      <th></th>\n",
       "      <th></th>\n",
       "    </tr>\n",
       "  </thead>\n",
       "  <tbody>\n",
       "    <tr>\n",
       "      <th>Iris-setosa</th>\n",
       "      <td>5.1</td>\n",
       "      <td>3.5</td>\n",
       "      <td>1.4</td>\n",
       "      <td>0.2</td>\n",
       "    </tr>\n",
       "    <tr>\n",
       "      <th>Iris-versicolor</th>\n",
       "      <td>7.0</td>\n",
       "      <td>3.2</td>\n",
       "      <td>4.7</td>\n",
       "      <td>1.4</td>\n",
       "    </tr>\n",
       "    <tr>\n",
       "      <th>Iris-virginica</th>\n",
       "      <td>6.3</td>\n",
       "      <td>3.3</td>\n",
       "      <td>6.0</td>\n",
       "      <td>2.5</td>\n",
       "    </tr>\n",
       "  </tbody>\n",
       "</table>\n",
       "</div>"
      ],
      "text/plain": [
       "                 sepal length  sepal width  petal length  petal width\n",
       "class                                                                \n",
       "Iris-setosa               5.1          3.5           1.4          0.2\n",
       "Iris-versicolor           7.0          3.2           4.7          1.4\n",
       "Iris-virginica            6.3          3.3           6.0          2.5"
      ]
     },
     "metadata": {},
     "output_type": "display_data"
    }
   ],
   "source": [
    "# Easy way :)\n",
    "# iris = load_iris()\n",
    "# X, y = iris.data, iris.target\n",
    "\n",
    "header_names = ['sepal length', 'sepal width', 'petal length', 'petal width', 'class']\n",
    "ds = pd.read_csv('http://archive.ics.uci.edu/ml/machine-learning-databases/iris/iris.data',\n",
    "                 header=None,\n",
    "                 names=header_names\n",
    "                )\n",
    "\n",
    "display(ds.groupby('class').first())"
   ]
  },
  {
   "cell_type": "markdown",
   "metadata": {},
   "source": [
    "## Pré-processamento dos dados"
   ]
  },
  {
   "cell_type": "code",
   "execution_count": 3,
   "metadata": {
    "collapsed": false,
    "deletable": true,
    "editable": true
   },
   "outputs": [],
   "source": [
    "# Mapeia as classes para números\n",
    "encoder = LabelEncoder()\n",
    "\n",
    "# Normaliza os atributos para valores entre 0 e 1\n",
    "scaler = MinMaxScaler()\n",
    "\n",
    "# Apenas as variáveis X e y serão usadas daqui em diante\n",
    "X = scaler.fit_transform(ds[header_names[:-1]])\n",
    "y = encoder.fit_transform(ds['class'])"
   ]
  },
  {
   "cell_type": "markdown",
   "metadata": {
    "deletable": true,
    "editable": true
   },
   "source": [
    "# Classificadores e intervalos de hiperparâmetros\n",
    "* Obs: é possível acrescentar novos classificadores e parâmetros nesta seção, sem a necessidade de alterar o resto do código."
   ]
  },
  {
   "cell_type": "code",
   "execution_count": 4,
   "metadata": {
    "collapsed": false,
    "deletable": true,
    "editable": true
   },
   "outputs": [],
   "source": [
    "classifiers = [\n",
    "    KNeighborsClassifier(),\n",
    "    SVC(),\n",
    "    LogisticRegression()\n",
    "]\n",
    "\n",
    "classifiers_names = ['KNN', 'SVC', 'L. Regression']\n",
    "\n",
    "# Definindo os valores possíveis dos hiperparâmetros dos classificadores\n",
    "params = [\n",
    "    { 'n_neighbors': range(1, 50), 'weights': ['uniform', 'distance'] }, # KNN\n",
    "    { 'kernel':('linear', 'rbf'), 'C': np.linspace(0.001, 10, 10000) }, # SVC\n",
    "    { 'C': range(1,1000) } # L. Regression\n",
    "]"
   ]
  },
  {
   "cell_type": "markdown",
   "metadata": {
    "deletable": true,
    "editable": true
   },
   "source": [
    "## Otimização de hiperparâmetros"
   ]
  },
  {
   "cell_type": "code",
   "execution_count": 5,
   "metadata": {
    "collapsed": false,
    "deletable": true,
    "editable": true
   },
   "outputs": [
    {
     "name": "stdout",
     "output_type": "stream",
     "text": [
      "KNN: {'weights': 'distance', 'n_neighbors': 14} - 95.85%\n",
      "SVC: {'kernel': 'linear', 'C': 6.0870000000000006} - 96.51%\n",
      "L. Regression: {'C': 929} - 95.62%\n"
     ]
    }
   ],
   "source": [
    "# Os dados são divididos em 3 (33% para validação) randomicamente e de forma balanceada,\n",
    "# e o processo é repetido 'n_repeats' vezes.\n",
    "cross_validator = RepeatedStratifiedKFold(n_splits=3, n_repeats=100, random_state=R_STATE)\n",
    "\n",
    "for classifier, name, param in zip(classifiers, classifiers_names, params):\n",
    "    # Aqui, cada classificador é testado em cross-validation pelo RandomizedSearchCV,\n",
    "    # para cada combinações randômicas dos parâmetros.\n",
    "    grid = RandomizedSearchCV(classifier, param, scoring='accuracy',\n",
    "                              cv=cross_validator, random_state=R_STATE).fit(X, y)\n",
    "\n",
    "    # Seta parâmetros achados no gridsearch\n",
    "    classifier.set_params(**grid.best_params_)\n",
    "    \n",
    "    print('{0}: {1} - {2:.2%}'.format(name, grid.best_params_, grid.best_score_))"
   ]
  },
  {
   "cell_type": "markdown",
   "metadata": {
    "deletable": true,
    "editable": true
   },
   "source": [
    "> Na busca pelos melhores parâmetros acima, o classificador que obteve melhor desempenho no cross-validation foi o _SVC_, com 96.51% na média de acertos."
   ]
  },
  {
   "cell_type": "markdown",
   "metadata": {
    "deletable": true,
    "editable": true
   },
   "source": [
    "## Treinamento dos classificadores"
   ]
  },
  {
   "cell_type": "markdown",
   "metadata": {},
   "source": [
    "Com os hiperparâmetros definidos, os classificadores são treinados e testados massivamente, com diferentes combinações da amostra."
   ]
  },
  {
   "cell_type": "code",
   "execution_count": 6,
   "metadata": {
    "collapsed": false,
    "scrolled": false
   },
   "outputs": [],
   "source": [
    "# Esta função divide os dados randomicamente, na proporção definida por\n",
    "# n_splits (3 == 2/3, ou 66% em treino, 1/3 em teste), treina os classificadores,\n",
    "# repete o processo 'n_repeats' vezes e retorna uma lista com os dados reais de\n",
    "# teste e uma lista de listas com os valores inferidos pelos classificadores.\n",
    "def massive_training(classifiers, X, y, n_splits=3, n_repeats=10):\n",
    "    y_true = []\n",
    "    y_preds = [[] for _ in classifiers]\n",
    "    \n",
    "    cv = RepeatedStratifiedKFold(n_splits=n_splits, n_repeats=n_repeats, random_state=R_STATE)\n",
    "    \n",
    "    for i_train, i_test in cv.split(X, y):\n",
    "        X_train, X_test = X[i_train], X[i_test]\n",
    "        y_train, y_test = y[i_train], y[i_test]\n",
    "\n",
    "        y_true.extend(y_test)\n",
    "        for j, classifier in enumerate(classifiers):\n",
    "            classifier.fit(X_train, y_train)\n",
    "            y_preds[j].extend(classifier.predict(X_test))\n",
    "    \n",
    "    return y_true, y_preds\n",
    "\n",
    "y_true, y_preds = massive_training(classifiers, X, y, n_repeats=1000)"
   ]
  },
  {
   "cell_type": "markdown",
   "metadata": {
    "deletable": true,
    "editable": true
   },
   "source": [
    "# Análise dos classificadores"
   ]
  },
  {
   "cell_type": "code",
   "execution_count": 7,
   "metadata": {
    "collapsed": false,
    "deletable": true,
    "editable": true,
    "scrolled": false
   },
   "outputs": [
    {
     "name": "stdout",
     "output_type": "stream",
     "text": [
      "*** KNN: 95.89% ***\n",
      "\n",
      "Confusion Matrix:\n",
      "[[50000     0     0]\n",
      " [    0 47481  2519]\n",
      " [    0  3651 46349]]\n",
      "\n",
      "Report:\n",
      "                 precision    recall  f1-score   support\n",
      "\n",
      "    Iris-setosa     1.0000    1.0000    1.0000     50000\n",
      "Iris-versicolor     0.9286    0.9496    0.9390     50000\n",
      " Iris-virginica     0.9485    0.9270    0.9376     50000\n",
      "\n",
      "    avg / total     0.9590    0.9589    0.9589    150000\n",
      "\n",
      "\n",
      "*** SVC: 96.58% ***\n",
      "\n",
      "Confusion Matrix:\n",
      "[[50000     0     0]\n",
      " [    0 46792  3208]\n",
      " [    0  1925 48075]]\n",
      "\n",
      "Report:\n",
      "                 precision    recall  f1-score   support\n",
      "\n",
      "    Iris-setosa     1.0000    1.0000    1.0000     50000\n",
      "Iris-versicolor     0.9605    0.9358    0.9480     50000\n",
      " Iris-virginica     0.9374    0.9615    0.9493     50000\n",
      "\n",
      "    avg / total     0.9660    0.9658    0.9658    150000\n",
      "\n",
      "\n",
      "*** L. Regression: 95.63% ***\n",
      "\n",
      "Confusion Matrix:\n",
      "[[49995     5     0]\n",
      " [    0 46786  3214]\n",
      " [    0  3330 46670]]\n",
      "\n",
      "Report:\n",
      "                 precision    recall  f1-score   support\n",
      "\n",
      "    Iris-setosa     1.0000    0.9999    0.9999     50000\n",
      "Iris-versicolor     0.9335    0.9357    0.9346     50000\n",
      " Iris-virginica     0.9356    0.9334    0.9345     50000\n",
      "\n",
      "    avg / total     0.9563    0.9563    0.9563    150000\n",
      "\n",
      "\n"
     ]
    }
   ],
   "source": [
    "for c_name, y_pred in zip(classifiers_names, y_preds):\n",
    "    print('*** {0}: {1:.2%} ***'.\n",
    "          format(c_name, class_metrics.accuracy_score(y_true, y_pred)))\n",
    "    print('\\nConfusion Matrix:')\n",
    "    print(class_metrics.confusion_matrix(y_true, y_pred))\n",
    "    print('\\nReport:')\n",
    "    print(class_metrics\n",
    "          .classification_report(y_true, y_pred, target_names=encoder.classes_, digits=4))\n",
    "    print()"
   ]
  }
 ],
 "metadata": {
  "kernelspec": {
   "display_name": "Python 3",
   "language": "python",
   "name": "python3"
  },
  "language_info": {
   "codemirror_mode": {
    "name": "ipython",
    "version": 3
   },
   "file_extension": ".py",
   "mimetype": "text/x-python",
   "name": "python",
   "nbconvert_exporter": "python",
   "pygments_lexer": "ipython3",
   "version": "3.6.0"
  }
 },
 "nbformat": 4,
 "nbformat_minor": 2
}
