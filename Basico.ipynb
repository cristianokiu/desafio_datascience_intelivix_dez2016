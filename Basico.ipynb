{
 "cells": [
  {
   "cell_type": "markdown",
   "metadata": {
    "deletable": true,
    "editable": true
   },
   "source": [
    "# Desafio Data Science Intelivix"
   ]
  },
  {
   "cell_type": "code",
   "execution_count": 185,
   "metadata": {
    "collapsed": false,
    "deletable": true,
    "editable": true
   },
   "outputs": [],
   "source": [
    "# Dataset\n",
    "from sklearn.datasets import load_iris\n",
    "\n",
    "# Classificadores\n",
    "from sklearn.neighbors import KNeighborsClassifier\n",
    "from sklearn.svm import SVC\n",
    "from sklearn.linear_model import LogisticRegression\n",
    "\n",
    "# Pré-processamento\n",
    "# from sklearn.preprocessing import StandardScaler\n",
    "\n",
    "# Treinamento\n",
    "from sklearn.model_selection import train_test_split\n",
    "from sklearn.model_selection import GridSearchCV\n",
    "\n",
    "# Métricas\n",
    "from sklearn.metrics import accuracy_score, confusion_matrix\n",
    "\n",
    "# Outros\n",
    "from itertools import count"
   ]
  },
  {
   "cell_type": "markdown",
   "metadata": {
    "deletable": true,
    "editable": true
   },
   "source": [
    "# Dataset"
   ]
  },
  {
   "cell_type": "code",
   "execution_count": 41,
   "metadata": {
    "collapsed": true,
    "deletable": true,
    "editable": true
   },
   "outputs": [],
   "source": [
    "iris = load_iris()\n",
    "X, y = iris.data, iris.target"
   ]
  },
  {
   "cell_type": "markdown",
   "metadata": {
    "deletable": true,
    "editable": true
   },
   "source": [
    "# Classificadores"
   ]
  },
  {
   "cell_type": "code",
   "execution_count": 4,
   "metadata": {
    "collapsed": false,
    "deletable": true,
    "editable": true
   },
   "outputs": [],
   "source": [
    "classifiers = [\n",
    "    KNeighborsClassifier(),\n",
    "    SVC(),\n",
    "    LogisticRegression()\n",
    "]"
   ]
  },
  {
   "cell_type": "markdown",
   "metadata": {
    "deletable": true,
    "editable": true
   },
   "source": [
    "## Otimizando os parâmetros dos classificadores"
   ]
  },
  {
   "cell_type": "code",
   "execution_count": 167,
   "metadata": {
    "collapsed": true,
    "deletable": true,
    "editable": true
   },
   "outputs": [],
   "source": [
    "# Definindo os valores possíveis dos hiperparâmetros\n",
    "c_range = list(pow(10,n) for n in range(-4,4))\n",
    "params = [\n",
    "    { 'n_neighbors': list(range(1,20)), 'weights': ['uniform', 'distance'] },\n",
    "    { 'kernel':('linear', 'rbf'), 'C': c_range },\n",
    "    {'C': c_range }\n",
    "]\n",
    "\n",
    "# Aqui, cada classificador é testado em cross-validation pelo GridSearch.\n",
    "# Os dados são divididos em 3, por padrão, e cada parâmetro é testado 3 vezes.\n",
    "grids = [GridSearchCV(c, p, scoring='accuracy').fit(X, y) \n",
    "         for c, p in zip(classifiers, params)]\n",
    "\n",
    "# Poderíamos aqui usar a propriedade 'best_estimator_' para recuperar\n",
    "# os melhores classificadores em GridSearch, e ainda compará-los com a média de acertos,\n",
    "# em 'best_score_'. Mas treinaremos novas instâncias para analisar as matrizes de confusão.\n",
    "knn = KNeighborsClassifier(**grids[0].best_params_)\n",
    "svc = SVC(**grids[1].best_params_)\n",
    "lgr = LogisticRegression(**grids[2].best_params_)\n",
    "\n",
    "classifiers = [knn, svc, lgr]\n",
    "classifiers_names = ['KNN', 'SVC', 'L. Regression']"
   ]
  },
  {
   "cell_type": "markdown",
   "metadata": {
    "deletable": true,
    "editable": true
   },
   "source": [
    "## Treinando os classificadores"
   ]
  },
  {
   "cell_type": "code",
   "execution_count": 203,
   "metadata": {
    "collapsed": false,
    "deletable": true,
    "editable": true
   },
   "outputs": [
    {
     "name": "stdout",
     "output_type": "stream",
     "text": [
      "KNN: 94.12%\n",
      "SVC: 96.08%\n",
      "L. Regression: 92.16%\n"
     ]
    }
   ],
   "source": [
    "# Dividindo as amostras em 66% treino e 34% testes\n",
    "X_train, X_test, y_train, y_test = train_test_split(X, y, train_size=0.66, random_state=3)\n",
    "\n",
    "predicted = []\n",
    "for c, n in zip(classifiers, classifiers_names):\n",
    "    c.fit(X_train, y_train)\n",
    "    \n",
    "    # Percentual de acertos no conjunto de testes\n",
    "    predict = c.predict(X_test)\n",
    "    predicted.append(predict)\n",
    "    print(\"{0}: {1:.2%}\".\n",
    "          format(n, accuracy_score(y_test, predict)))"
   ]
  },
  {
   "cell_type": "markdown",
   "metadata": {
    "deletable": true,
    "editable": true
   },
   "source": [
    "## Matrizes de confusão"
   ]
  },
  {
   "cell_type": "code",
   "execution_count": 204,
   "metadata": {
    "collapsed": false,
    "deletable": true,
    "editable": true
   },
   "outputs": [
    {
     "name": "stdout",
     "output_type": "stream",
     "text": [
      "1. KNN\n",
      "[0 0 0 0 0 2 1 0 2 1 1 0 1 1 2]\n",
      "[0 0 0 0 0 2 1 0 2 1 1 0 1 1 2]\n",
      "Matriz de Confusão:\n",
      "[[19  0  0]\n",
      " [ 0 14  3]\n",
      " [ 0  0 15]]\n",
      "\n",
      "2. SVC\n",
      "[0 0 0 0 0 2 1 0 2 1 1 0 1 1 2]\n",
      "[0 0 0 0 0 2 1 0 2 1 1 0 1 1 2]\n",
      "Matriz de Confusão:\n",
      "[[19  0  0]\n",
      " [ 0 15  2]\n",
      " [ 0  0 15]]\n",
      "\n",
      "3. L. Regression\n",
      "[0 0 0 0 0 2 1 0 2 1 1 0 1 1 2]\n",
      "[0 0 0 0 0 2 1 0 2 1 1 0 1 1 2]\n",
      "Matriz de Confusão:\n",
      "[[19  0  0]\n",
      " [ 0 13  4]\n",
      " [ 0  0 15]]\n",
      "\n"
     ]
    }
   ],
   "source": [
    "for c, n, p, i in zip(classifiers, classifiers_names, predicted, count(1)):\n",
    "    print('{0}. {1}'.format(i, n))\n",
    "    print(y_test[0:15])\n",
    "    print(p[0:15])\n",
    "    print(\"Matriz de Confusão:\")\n",
    "    print(confusion_matrix(y_test, p))\n",
    "    print()"
   ]
  }
 ],
 "metadata": {
  "kernelspec": {
   "display_name": "Python 3",
   "language": "python",
   "name": "python3"
  },
  "language_info": {
   "codemirror_mode": {
    "name": "ipython",
    "version": 3
   },
   "file_extension": ".py",
   "mimetype": "text/x-python",
   "name": "python",
   "nbconvert_exporter": "python",
   "pygments_lexer": "ipython3",
   "version": "3.6.0"
  }
 },
 "nbformat": 4,
 "nbformat_minor": 2
}
